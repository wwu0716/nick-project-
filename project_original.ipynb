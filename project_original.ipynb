{
 "cells": [
  {
   "cell_type": "markdown",
   "id": "e9319d32-9232-4439-b6e3-4b4412c55575",
   "metadata": {},
   "source": [
    "Predicting Newsletter Subscription Among Minecraft Server Players Using Gameplay Activity"
   ]
  },
  {
   "cell_type": "markdown",
   "id": "837a59e9-c0d7-4267-8677-fc02867e8bab",
   "metadata": {},
   "source": [
    "Background: Minecraft is a popular sandbox video game that allows players to explore, build, and interact within a block-based virtual world. Due to its capability to attract a wide range of players, researchers are using it as a platform for studying behavior.\n",
    "\n",
    "In this project, a research team at UBC has deployed a custom Minecraft server to collect detailed data on player activity.The server logs their sessions. This behavioral dataset uses variables such as player experience, playtime, and age to specifically explores whether players choose to subscribe to a newsletter related to the game based on these conditions. By analyzing these patterns, we aim to build a predictive model that can help identify the most engaged users based on their in-game behavior. Understanding which player characteristics are predictive of subscription can help the research team better target communications and tailor the gaming experience."
   ]
  },
  {
   "cell_type": "markdown",
   "id": "644e6fb4-43ad-4ebb-9d31-adf36700455d",
   "metadata": {},
   "source": [
    "Question: Can player characteristics (such as experience, playtime, age, and gender) predict whether a player subscribes to the game-related newsletter in the Minecraft server dataset?"
   ]
  },
  {
   "cell_type": "markdown",
   "id": "7a546303-01b4-4f60-9c52-b1c70d3b1c23",
   "metadata": {},
   "source": [
    "Data Description:"
   ]
  },
  {
   "cell_type": "code",
   "execution_count": null,
   "id": "8925c2ee-2c54-4982-bae5-acfeee2c72ff",
   "metadata": {},
   "outputs": [],
   "source": [
    "library(tidyverse)\n",
    "library(tidymodels)\n",
    "library(tidyclust)\n",
    "library(forcats)\n",
    "library(repr)\n",
    "options(repr.matrix.max.rows = 6)\n",
    "source(\"cleanup.R\")"
   ]
  },
  {
   "cell_type": "code",
   "execution_count": null,
   "id": "fa56f6b5-55dc-4ec1-855e-c9eb8b48548f",
   "metadata": {},
   "outputs": [],
   "source": [
    "players = read_csv(\"players.csv\")\n",
    "\n",
    "players"
   ]
  },
  {
   "cell_type": "markdown",
   "id": "828f8269-5e40-4799-a68d-6b79b3d87a80",
   "metadata": {},
   "source": [
    "The players dataset used for this analysis consists of 197 observations and 7 variables. It contains information on players of a Minecraft research server, including demographic details, gameplay statistics, and subscription status.\n",
    "\n",
    "The key variables are summarized below:\n",
    "\n",
    "Variable 1 (experience): character — player experience level in minecraft Variable 2 (subscribe): logic — whether or not the player is subscribed to the newsletter (TRUE is subscribed, FALSE is not subscribed) Variable 3 (hashedEmail): character — hashed email of the player to protect privacy Variable 4 (played_hours): numeric (decimal number) — number of hour the player has played Variable 5 (name): character — the name of the player Variable 6 (gender): character — gender of the player Variable 7 (Age): numeric (decimal number) — age of the player in years\n",
    "\n",
    "The data includes both numeric and categorical variables. The response variable for this analysis is subscribe, which indicates whether a player subscribed to the game-related newsletter.\n",
    "\n",
    "The data includes both numeric and categorical variables. The response variable for this analysis is subscribe, which indicates whether a player subscribed to the game-related newsletter.\n",
    "\n",
    "Some considerations about the data:\n",
    "\n",
    "The dataset may contain missing or inconsistent values, which will be addressed during data cleaning. Certain variables, such as hashedEmail and name, serve as unique identifiers and will not be used as predictors. The data were collected through player activity logs and subscription records from the Minecraft research server. Potential limitations include sample size constraints and possible self-reporting bias in demographic variables like gender and age. This dataset provides a comprehensive overview of player characteristics and behavior relevant to predicting newsletter subscription status."
   ]
  }
 ],
 "metadata": {
  "kernelspec": {
   "display_name": "R",
   "language": "R",
   "name": "ir"
  },
  "language_info": {
   "codemirror_mode": "r",
   "file_extension": ".r",
   "mimetype": "text/x-r-source",
   "name": "R",
   "pygments_lexer": "r",
   "version": "4.3.3"
  }
 },
 "nbformat": 4,
 "nbformat_minor": 5
}
